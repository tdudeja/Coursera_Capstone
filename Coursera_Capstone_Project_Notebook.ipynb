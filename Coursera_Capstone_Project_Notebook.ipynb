{
    "cells": [
        {
            "cell_type": "markdown",
            "metadata": {
                "collapsed": true
            },
            "source": "## This notebook will be used for the Capstone project"
        },
        {
            "cell_type": "markdown",
            "metadata": {},
            "source": "## Introduction\n\nThe aim of this capstone project is to apply all the concepts and CRISP methodology learnt as part of the 1-8 courses within the \"Data science professional\" specialisation. \n\nIn this , we will go from **Business Understanding** to all the way till  **Modelling** , **Evaluation** , **Deployment** and **Report generation** stages.\n"
        },
        {
            "cell_type": "markdown",
            "metadata": {},
            "source": "#### Business Problem and Introduction"
        },
        {
            "cell_type": "markdown",
            "metadata": {},
            "source": "Problem: Many people in general are unaware about the \"Impact of traffic\" on the accident rate and the severity of those accidents, thereby making them vulnerable to such accidents.\nHence this project is intended to generate Supervised ML models to predict the \"severity\" of the accident based on different predictor variables/attributes. \n\nAudience: Driving population in general, who can gain value by being aware on the potential risks while driving to a particular location on certain road or weather conditions etc. This would enable them to take informed decisions and choose the route / direction accordingly."
        },
        {
            "cell_type": "markdown",
            "metadata": {},
            "source": "## Table of Contents\n\n<div class=\"alert alert-block alert-info\" style=\"margin-top: 20px\">\n\n1. [Business Problem](#0)<br>\n2. [Data Understanding](#2) <br>\n3. [Data Preparation and Cleaning](#2) <br>\n4. [Modelling](#2) <br>\n5. [Evaluation](#2) <br>\n6. [Deployment](#2) <br>\n</div>\n<hr>"
        },
        {
            "cell_type": "code",
            "execution_count": 2,
            "metadata": {},
            "outputs": [],
            "source": "import pandas as pd\nimport numpy as np"
        },
        {
            "cell_type": "code",
            "execution_count": 3,
            "metadata": {},
            "outputs": [
                {
                    "name": "stdout",
                    "output_type": "stream",
                    "text": "Hello Capstone Project Course !\n"
                }
            ],
            "source": "print('Hello Capstone Project Course !')"
        }
    ],
    "metadata": {
        "kernelspec": {
            "display_name": "Python 3.6",
            "language": "python",
            "name": "python3"
        },
        "language_info": {
            "codemirror_mode": {
                "name": "ipython",
                "version": 3
            },
            "file_extension": ".py",
            "mimetype": "text/x-python",
            "name": "python",
            "nbconvert_exporter": "python",
            "pygments_lexer": "ipython3",
            "version": "3.6.9"
        }
    },
    "nbformat": 4,
    "nbformat_minor": 1
}